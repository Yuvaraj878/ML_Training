{
 "cells": [
  {
   "cell_type": "code",
   "execution_count": 1,
   "id": "32d28506",
   "metadata": {},
   "outputs": [],
   "source": [
    "import tensorflow as tf\n",
    "import numpy as np\n",
    "from tensorflow.keras import layers, models\n",
    "from tensorflow.keras.datasets import cifar10\n"
   ]
  },
  {
   "cell_type": "code",
   "execution_count": 2,
   "id": "036ed627",
   "metadata": {},
   "outputs": [
    {
     "name": "stdout",
     "output_type": "stream",
     "text": [
      "Training data shape: (50000, 32, 32, 3) (50000, 1)\n",
      "Test data shape: (10000, 32, 32, 3) (10000, 1)\n"
     ]
    }
   ],
   "source": [
    "# Load CIFAR-10 dataset\n",
    "(x_train, y_train), (x_test, y_test) = cifar10.load_data()\n",
    "# view the shape of the dataset\n",
    "print(\"Training data shape:\", x_train.shape, y_train.shape)\n",
    "print(\"Test data shape:\", x_test.shape, y_test.shape)"
   ]
  },
  {
   "cell_type": "code",
   "execution_count": 3,
   "id": "5fdf1131",
   "metadata": {},
   "outputs": [
    {
     "name": "stdout",
     "output_type": "stream",
     "text": [
      "Classes in the dataset: [0 1 2 3 4 5 6 7 8 9]\n"
     ]
    }
   ],
   "source": [
    "#view the classes in the dataset\n",
    "classes = np.unique(y_train)\n",
    "print(\"Classes in the dataset:\", classes)"
   ]
  },
  {
   "cell_type": "code",
   "execution_count": 4,
   "id": "00137162",
   "metadata": {},
   "outputs": [],
   "source": [
    "# take only dog,cat and deer classes\n",
    "dog_cat_deer_classes = [3, 5, 4]  # Dog, Cat, Deer\n",
    "train_mask = np.isin(y_train, dog_cat_deer_classes)\n",
    "test_mask = np.isin(y_test, dog_cat_deer_classes)\n",
    "x_train_filtered = x_train[train_mask.flatten()]\n",
    "y_train_filtered = y_train[train_mask]\n",
    "x_test_filtered = x_test[test_mask.flatten()]\n",
    "y_test_filtered = y_test[test_mask]\n"
   ]
  },
  {
   "cell_type": "code",
   "execution_count": 5,
   "id": "1f544801",
   "metadata": {},
   "outputs": [],
   "source": [
    "label_map = {3: 0, 5: 1, 4: 2}\n",
    "y_train_filtered = np.vectorize(label_map.get)(y_train_filtered)\n",
    "y_test_filtered = np.vectorize(label_map.get)(y_test_filtered)"
   ]
  },
  {
   "cell_type": "code",
   "execution_count": 6,
   "id": "6d54ee0d",
   "metadata": {},
   "outputs": [],
   "source": [
    "# Normalize the images\n",
    "x_train_filtered = x_train_filtered.astype('float32') / 255.0\n",
    "x_test_filtered = x_test_filtered.astype('float32') / 255.0"
   ]
  },
  {
   "cell_type": "code",
   "execution_count": 7,
   "id": "62e6b27e",
   "metadata": {},
   "outputs": [
    {
     "name": "stdout",
     "output_type": "stream",
     "text": [
      "Normalized training data shape: (15000, 32, 32, 3)\n",
      "Normalized test data shape: (3000, 32, 32, 3)\n"
     ]
    }
   ],
   "source": [
    "# view the normalized data img\n",
    "print(\"Normalized training data shape:\", x_train_filtered.shape)\n",
    "print(\"Normalized test data shape:\", x_test_filtered.shape)\n"
   ]
  },
  {
   "cell_type": "code",
   "execution_count": 8,
   "id": "f7f7cdfe",
   "metadata": {},
   "outputs": [
    {
     "name": "stderr",
     "output_type": "stream",
     "text": [
      "c:\\Users\\SEC\\AppData\\Local\\Programs\\Python\\Python39\\lib\\site-packages\\keras\\src\\layers\\convolutional\\base_conv.py:107: UserWarning: Do not pass an `input_shape`/`input_dim` argument to a layer. When using Sequential models, prefer using an `Input(shape)` object as the first layer in the model instead.\n",
      "  super().__init__(activity_regularizer=activity_regularizer, **kwargs)\n"
     ]
    }
   ],
   "source": [
    "# train a simple CNN model\n",
    "model = models.Sequential([\n",
    "    layers.Conv2D(32, (3, 3), activation='relu', input_shape=(32, 32, 3)),\n",
    "    layers.MaxPooling2D((2, 2)),\n",
    "    layers.Conv2D(64, (3, 3), activation='relu'),\n",
    "    layers.MaxPooling2D((2, 2)),\n",
    "    layers.Conv2D(64, (3, 3), activation='relu'),\n",
    "    layers.Flatten(),\n",
    "    layers.Dense(64, activation='relu'),\n",
    "    layers.Dense(len(dog_cat_deer_classes), activation='softmax')\n",
    "])"
   ]
  },
  {
   "cell_type": "code",
   "execution_count": 9,
   "id": "1586b01c",
   "metadata": {},
   "outputs": [],
   "source": [
    "# compile the model\n",
    "model.compile(optimizer='adam',\n",
    "              loss='sparse_categorical_crossentropy',\n",
    "                metrics=['accuracy'])"
   ]
  },
  {
   "cell_type": "code",
   "execution_count": 10,
   "id": "9b78093b",
   "metadata": {},
   "outputs": [
    {
     "name": "stdout",
     "output_type": "stream",
     "text": [
      "Epoch 1/20\n",
      "\u001b[1m211/211\u001b[0m \u001b[32m━━━━━━━━━━━━━━━━━━━━\u001b[0m\u001b[37m\u001b[0m \u001b[1m4s\u001b[0m 16ms/step - accuracy: 0.4575 - loss: 1.0256 - val_accuracy: 0.5940 - val_loss: 0.8592\n",
      "Epoch 2/20\n",
      "\u001b[1m211/211\u001b[0m \u001b[32m━━━━━━━━━━━━━━━━━━━━\u001b[0m\u001b[37m\u001b[0m \u001b[1m3s\u001b[0m 15ms/step - accuracy: 0.6079 - loss: 0.8387 - val_accuracy: 0.6507 - val_loss: 0.7696\n",
      "Epoch 3/20\n",
      "\u001b[1m211/211\u001b[0m \u001b[32m━━━━━━━━━━━━━━━━━━━━\u001b[0m\u001b[37m\u001b[0m \u001b[1m3s\u001b[0m 15ms/step - accuracy: 0.6535 - loss: 0.7613 - val_accuracy: 0.6880 - val_loss: 0.7142\n",
      "Epoch 4/20\n",
      "\u001b[1m211/211\u001b[0m \u001b[32m━━━━━━━━━━━━━━━━━━━━\u001b[0m\u001b[37m\u001b[0m \u001b[1m3s\u001b[0m 14ms/step - accuracy: 0.6832 - loss: 0.7065 - val_accuracy: 0.6133 - val_loss: 0.8074\n",
      "Epoch 5/20\n",
      "\u001b[1m211/211\u001b[0m \u001b[32m━━━━━━━━━━━━━━━━━━━━\u001b[0m\u001b[37m\u001b[0m \u001b[1m3s\u001b[0m 14ms/step - accuracy: 0.7065 - loss: 0.6666 - val_accuracy: 0.6873 - val_loss: 0.6745\n",
      "Epoch 6/20\n",
      "\u001b[1m211/211\u001b[0m \u001b[32m━━━━━━━━━━━━━━━━━━━━\u001b[0m\u001b[37m\u001b[0m \u001b[1m3s\u001b[0m 15ms/step - accuracy: 0.7286 - loss: 0.6204 - val_accuracy: 0.7340 - val_loss: 0.6261\n",
      "Epoch 7/20\n",
      "\u001b[1m211/211\u001b[0m \u001b[32m━━━━━━━━━━━━━━━━━━━━\u001b[0m\u001b[37m\u001b[0m \u001b[1m3s\u001b[0m 14ms/step - accuracy: 0.7529 - loss: 0.5929 - val_accuracy: 0.7260 - val_loss: 0.6239\n",
      "Epoch 8/20\n",
      "\u001b[1m211/211\u001b[0m \u001b[32m━━━━━━━━━━━━━━━━━━━━\u001b[0m\u001b[37m\u001b[0m \u001b[1m3s\u001b[0m 14ms/step - accuracy: 0.7678 - loss: 0.5559 - val_accuracy: 0.7387 - val_loss: 0.6129\n",
      "Epoch 9/20\n",
      "\u001b[1m211/211\u001b[0m \u001b[32m━━━━━━━━━━━━━━━━━━━━\u001b[0m\u001b[37m\u001b[0m \u001b[1m3s\u001b[0m 14ms/step - accuracy: 0.7803 - loss: 0.5210 - val_accuracy: 0.7553 - val_loss: 0.5802\n",
      "Epoch 10/20\n",
      "\u001b[1m211/211\u001b[0m \u001b[32m━━━━━━━━━━━━━━━━━━━━\u001b[0m\u001b[37m\u001b[0m \u001b[1m3s\u001b[0m 14ms/step - accuracy: 0.7921 - loss: 0.5040 - val_accuracy: 0.7533 - val_loss: 0.5753\n",
      "Epoch 11/20\n",
      "\u001b[1m211/211\u001b[0m \u001b[32m━━━━━━━━━━━━━━━━━━━━\u001b[0m\u001b[37m\u001b[0m \u001b[1m3s\u001b[0m 14ms/step - accuracy: 0.8065 - loss: 0.4683 - val_accuracy: 0.7507 - val_loss: 0.5889\n",
      "Epoch 12/20\n",
      "\u001b[1m211/211\u001b[0m \u001b[32m━━━━━━━━━━━━━━━━━━━━\u001b[0m\u001b[37m\u001b[0m \u001b[1m3s\u001b[0m 14ms/step - accuracy: 0.8254 - loss: 0.4264 - val_accuracy: 0.7567 - val_loss: 0.5930\n",
      "Epoch 13/20\n",
      "\u001b[1m211/211\u001b[0m \u001b[32m━━━━━━━━━━━━━━━━━━━━\u001b[0m\u001b[37m\u001b[0m \u001b[1m3s\u001b[0m 14ms/step - accuracy: 0.8295 - loss: 0.4112 - val_accuracy: 0.7427 - val_loss: 0.6173\n",
      "Epoch 14/20\n",
      "\u001b[1m211/211\u001b[0m \u001b[32m━━━━━━━━━━━━━━━━━━━━\u001b[0m\u001b[37m\u001b[0m \u001b[1m3s\u001b[0m 15ms/step - accuracy: 0.8461 - loss: 0.3804 - val_accuracy: 0.7493 - val_loss: 0.6210\n",
      "Epoch 15/20\n",
      "\u001b[1m211/211\u001b[0m \u001b[32m━━━━━━━━━━━━━━━━━━━━\u001b[0m\u001b[37m\u001b[0m \u001b[1m3s\u001b[0m 16ms/step - accuracy: 0.8740 - loss: 0.3205 - val_accuracy: 0.7540 - val_loss: 0.6512\n",
      "Epoch 16/20\n",
      "\u001b[1m211/211\u001b[0m \u001b[32m━━━━━━━━━━━━━━━━━━━━\u001b[0m\u001b[37m\u001b[0m \u001b[1m3s\u001b[0m 16ms/step - accuracy: 0.8796 - loss: 0.2969 - val_accuracy: 0.7447 - val_loss: 0.6662\n",
      "Epoch 17/20\n",
      "\u001b[1m211/211\u001b[0m \u001b[32m━━━━━━━━━━━━━━━━━━━━\u001b[0m\u001b[37m\u001b[0m \u001b[1m3s\u001b[0m 16ms/step - accuracy: 0.8951 - loss: 0.2667 - val_accuracy: 0.7387 - val_loss: 0.7249\n",
      "Epoch 18/20\n",
      "\u001b[1m211/211\u001b[0m \u001b[32m━━━━━━━━━━━━━━━━━━━━\u001b[0m\u001b[37m\u001b[0m \u001b[1m4s\u001b[0m 17ms/step - accuracy: 0.9092 - loss: 0.2381 - val_accuracy: 0.7427 - val_loss: 0.7476\n",
      "Epoch 19/20\n",
      "\u001b[1m211/211\u001b[0m \u001b[32m━━━━━━━━━━━━━━━━━━━━\u001b[0m\u001b[37m\u001b[0m \u001b[1m4s\u001b[0m 18ms/step - accuracy: 0.9251 - loss: 0.2029 - val_accuracy: 0.7427 - val_loss: 0.7993\n",
      "Epoch 20/20\n",
      "\u001b[1m211/211\u001b[0m \u001b[32m━━━━━━━━━━━━━━━━━━━━\u001b[0m\u001b[37m\u001b[0m \u001b[1m4s\u001b[0m 17ms/step - accuracy: 0.9297 - loss: 0.1844 - val_accuracy: 0.7467 - val_loss: 0.8326\n",
      "94/94 - 0s - 4ms/step - accuracy: 0.7370 - loss: 0.9169\n",
      "\n",
      "Test Accuracy: 73.70%\n"
     ]
    }
   ],
   "source": [
    "# Train the model\n",
    "model.fit(x_train_filtered, y_train_filtered, epochs=20, batch_size=64, validation_split=0.1)\n",
    "\n",
    "# Evaluate on test set\n",
    "test_loss, test_acc = model.evaluate(x_test_filtered, y_test_filtered, verbose=2)\n",
    "print(f\"\\nTest Accuracy: {test_acc * 100:.2f}%\")\n"
   ]
  },
  {
   "cell_type": "code",
   "execution_count": 11,
   "id": "a0f25de2",
   "metadata": {},
   "outputs": [
    {
     "data": {
      "image/png": "[encoded data removed]",
      "text/plain": [
       "<Figure size 1000x400 with 10 Axes>"
      ]
     },
     "metadata": {},
     "output_type": "display_data"
    }
   ],
   "source": [
    "import matplotlib.pyplot as plt\n",
    "class_names = ['Cat', 'Dog', 'Deer']\n",
    "plt.figure(figsize=(10, 4))\n",
    "for i in range(10):\n",
    "    plt.subplot(2, 5, i + 1)\n",
    "    plt.imshow(x_train_filtered[i])\n",
    "    plt.title(class_names[y_train_filtered[i]])\n",
    "    plt.axis('off')\n",
    "plt.tight_layout()\n",
    "plt.show()"
   ]
  },
  {
   "cell_type": "code",
   "execution_count": 15,
   "id": "800e249c",
   "metadata": {},
   "outputs": [
    {
     "name": "stderr",
     "output_type": "stream",
     "text": [
      "WARNING:absl:You are saving your model as an HDF5 file via `model.save()` or `keras.saving.save_model(model)`. This file format is considered legacy. We recommend using instead the native Keras format, e.g. `model.save('my_model.keras')` or `keras.saving.save_model(model, 'my_model.keras')`. \n"
     ]
    }
   ],
   "source": [
    "# save the model\n",
    "model.save('cifar10_dog_cat_deer_model.h5')"
   ]
  },
  {
   "cell_type": "code",
   "execution_count": null,
   "id": "dd06d833",
   "metadata": {},
   "outputs": [
    {
     "name": "stderr",
     "output_type": "stream",
     "text": [
      "WARNING:absl:Compiled the loaded model, but the compiled metrics have yet to be built. `model.compile_metrics` will be empty until you train or evaluate the model.\n"
     ]
    },
    {
     "name": "stdout",
     "output_type": "stream",
     "text": [
      "\u001b[1m1/1\u001b[0m \u001b[32m━━━━━━━━━━━━━━━━━━━━\u001b[0m\u001b[37m\u001b[0m \u001b[1m0s\u001b[0m 47ms/step\n",
      "Predicted class: Deer with confidence 95.58%\n"
     ]
    }
   ],
   "source": []
  },
  {
   "cell_type": "code",
   "execution_count": 27,
   "id": "283c20da",
   "metadata": {},
   "outputs": [
    {
     "name": "stderr",
     "output_type": "stream",
     "text": [
      "WARNING:absl:Compiled the loaded model, but the compiled metrics have yet to be built. `model.compile_metrics` will be empty until you train or evaluate the model.\n"
     ]
    },
    {
     "name": "stdout",
     "output_type": "stream",
     "text": [
      "94/94 - 1s - 6ms/step - accuracy: 0.7370 - loss: 0.9169\n",
      "\n",
      "Loaded Model Test Accuracy: 73.70%\n"
     ]
    }
   ],
   "source": [
    "# load the model\n",
    "loaded_model = models.load_model('cifar10_dog_cat_deer_model.h5')\n",
    "# Evaluate the loaded model\n",
    "loaded_test_loss, loaded_test_acc = loaded_model.evaluate(x_test_filtered, y_test_filtered,\n",
    "                                                            verbose=2)\n",
    "print(f\"\\nLoaded Model Test Accuracy: {loaded_test_acc * 100:.2f}%\")"
   ]
  },
  {
   "cell_type": "code",
   "execution_count": 28,
   "id": "e1653f1e",
   "metadata": {},
   "outputs": [
    {
     "name": "stdout",
     "output_type": "stream",
     "text": [
      "\u001b[1m1/1\u001b[0m \u001b[32m━━━━━━━━━━━━━━━━━━━━\u001b[0m\u001b[37m\u001b[0m \u001b[1m0s\u001b[0m 29ms/step\n",
      "Predicted class: 1 (Dog)\n"
     ]
    }
   ],
   "source": [
    "# Predict the class of the uploaded image\n",
    "from tensorflow.keras.preprocessing import image\n",
    "img_path = 'cat1.jpeg'  # Replace with your image path\n",
    "img = image.load_img(img_path, target_size=(32, 32))\n",
    "img = image.img_to_array(img)\n",
    "img = np.expand_dims(img, axis=0)  \n",
    "img = img.astype('float32') / 255.0  \n",
    "# Predict the class\n",
    "predictions = model.predict(img)\n",
    "predicted_class = np.argmax(predictions[0]) \n",
    "print(f\"Predicted class: {predicted_class} ({class_names[predicted_class]})\")"
   ]
  },
  {
   "cell_type": "code",
   "execution_count": null,
   "id": "c5d07ae1",
   "metadata": {},
   "outputs": [],
   "source": []
  }
 ],
 "metadata": {
  "kernelspec": {
   "display_name": "Python 3",
   "language": "python",
   "name": "python3"
  },
  "language_info": {
   "codemirror_mode": {
    "name": "ipython",
    "version": 3
   },
   "file_extension": ".py",
   "mimetype": "text/x-python",
   "name": "python",
   "nbconvert_exporter": "python",
   "pygments_lexer": "ipython3",
   "version": "3.9.9"
  }
 },
 "nbformat": 4,
 "nbformat_minor": 5
}
